{
  "nbformat": 4,
  "nbformat_minor": 0,
  "metadata": {
    "colab": {
      "provenance": []
    },
    "kernelspec": {
      "name": "python3",
      "display_name": "Python 3"
    },
    "language_info": {
      "name": "python"
    }
  },
  "cells": [
    {
      "cell_type": "markdown",
      "source": [
        "# 서울시 따릉이 대여량 예측"
      ],
      "metadata": {
        "id": "goVAIFlhUEPT"
      }
    },
    {
      "cell_type": "code",
      "source": [
        "from google.colab import drive\n",
        "drive.mount('/content/drive')"
      ],
      "metadata": {
        "colab": {
          "base_uri": "https://localhost:8080/"
        },
        "id": "uaW1QOsvPcd8",
        "outputId": "74f5c6b8-dadf-450c-fea9-0c314abb7a10"
      },
      "execution_count": 1,
      "outputs": [
        {
          "output_type": "stream",
          "name": "stdout",
          "text": [
            "Drive already mounted at /content/drive; to attempt to forcibly remount, call drive.mount(\"/content/drive\", force_remount=True).\n"
          ]
        }
      ]
    },
    {
      "cell_type": "code",
      "source": [
        "import pandas as pd\n",
        "import numpy as np\n",
        "import matplotlib.pyplot as plt\n",
        "import seaborn as sns"
      ],
      "metadata": {
        "id": "vrn7_KaxPuiF"
      },
      "execution_count": 2,
      "outputs": []
    },
    {
      "cell_type": "markdown",
      "source": [
        "## 1. 데이터 확인하기"
      ],
      "metadata": {
        "id": "jeKRKUE7RvhC"
      }
    },
    {
      "cell_type": "code",
      "source": [
        "# 데이터 불러오기\n",
        "train_df = pd.read_csv('/content/drive/MyDrive/Colab Notebooks/ttareungyi/train.csv')\n",
        "test_df = pd.read_csv('/content/drive/MyDrive/Colab Notebooks/ttareungyi/test.csv')"
      ],
      "metadata": {
        "id": "wcusA_MzP5Mt"
      },
      "execution_count": 3,
      "outputs": []
    },
    {
      "cell_type": "code",
      "source": [
        "# 데이터 개수 확인\n",
        "print(train_df.shape)\n",
        "print(test_df.shape)"
      ],
      "metadata": {
        "colab": {
          "base_uri": "https://localhost:8080/"
        },
        "id": "Hy3_g8Y9h6Nk",
        "outputId": "cf091143-c930-4fbb-e455-e409c6f91101"
      },
      "execution_count": 4,
      "outputs": [
        {
          "output_type": "stream",
          "name": "stdout",
          "text": [
            "(1459, 11)\n",
            "(715, 10)\n"
          ]
        }
      ]
    },
    {
      "cell_type": "code",
      "source": [
        "# feature 값 확인 \n",
        "print(train_df.columns)\n",
        "print('-'*100)\n",
        "print(test_df.columns)"
      ],
      "metadata": {
        "colab": {
          "base_uri": "https://localhost:8080/"
        },
        "id": "i0M6wQcfQk_F",
        "outputId": "33665ad4-c361-475e-f36a-8b7036d852ac"
      },
      "execution_count": 5,
      "outputs": [
        {
          "output_type": "stream",
          "name": "stdout",
          "text": [
            "Index(['id', 'hour', 'hour_bef_temperature', 'hour_bef_precipitation',\n",
            "       'hour_bef_windspeed', 'hour_bef_humidity', 'hour_bef_visibility',\n",
            "       'hour_bef_ozone', 'hour_bef_pm10', 'hour_bef_pm2.5', 'count'],\n",
            "      dtype='object')\n",
            "----------------------------------------------------------------------------------------------------\n",
            "Index(['id', 'hour', 'hour_bef_temperature', 'hour_bef_precipitation',\n",
            "       'hour_bef_windspeed', 'hour_bef_humidity', 'hour_bef_visibility',\n",
            "       'hour_bef_ozone', 'hour_bef_pm10', 'hour_bef_pm2.5'],\n",
            "      dtype='object')\n"
          ]
        }
      ]
    },
    {
      "cell_type": "markdown",
      "source": [
        " 서울시 마포구의 날짜별, 시간별 기상상황과 따릉이 대여 수 데이터\n",
        "\n",
        "\n",
        "- id 고유 id\n",
        "- hour 시간 - 시간대대\n",
        "- temperature 기온\n",
        "- precipitation 비가 오지 않았으면 0, 비가 오면 1\n",
        "- windspeed 풍속(평균)\n",
        "- humidity 습도\n",
        "- visibility 시정(視程), 시계(視界)(특정 기상 상태에 따른 가시성을 의미)\n",
        "- ozone 오존\n",
        "- pm10 미세먼지(머리카락 굵기의 1/5에서 1/7 크기의 미세먼지)\n",
        "- pm2.5 미세먼지(머리카락 굵기의 1/20에서 1/30 크기의 미세먼지)\n",
        "- count 시간에 따른 따릉이 대여 수\n",
        "\n",
        "\n",
        "ozone, pm10, pm2.5는 높을수록 안 좋다"
      ],
      "metadata": {
        "id": "NqTaRzNuTURy"
      }
    },
    {
      "cell_type": "markdown",
      "source": [
        "train 데이터의 count를 제외하고는 feature 모두 같다.\n",
        "\n",
        "count값을 예측해야한다"
      ],
      "metadata": {
        "id": "tui_tSAZS1h6"
      }
    },
    {
      "cell_type": "code",
      "source": [
        "# 통계값 확인 \n",
        "print(train_df.describe())"
      ],
      "metadata": {
        "colab": {
          "base_uri": "https://localhost:8080/"
        },
        "id": "hR0TTpI30gsN",
        "outputId": "b80e5b6d-a8bc-4b11-a26e-e131828f367f"
      },
      "execution_count": 6,
      "outputs": [
        {
          "output_type": "stream",
          "name": "stdout",
          "text": [
            "                id         hour  hour_bef_temperature  hour_bef_precipitation  \\\n",
            "count  1459.000000  1459.000000           1457.000000             1457.000000   \n",
            "mean   1105.914325    11.493489             16.717433                0.031572   \n",
            "std     631.338681     6.922790              5.239150                0.174917   \n",
            "min       3.000000     0.000000              3.100000                0.000000   \n",
            "25%     555.500000     5.500000             12.800000                0.000000   \n",
            "50%    1115.000000    11.000000             16.600000                0.000000   \n",
            "75%    1651.000000    17.500000             20.100000                0.000000   \n",
            "max    2179.000000    23.000000             30.000000                1.000000   \n",
            "\n",
            "       hour_bef_windspeed  hour_bef_humidity  hour_bef_visibility  \\\n",
            "count         1450.000000        1457.000000          1457.000000   \n",
            "mean             2.479034          52.231297          1405.216884   \n",
            "std              1.378265          20.370387           583.131708   \n",
            "min              0.000000           7.000000            78.000000   \n",
            "25%              1.400000          36.000000           879.000000   \n",
            "50%              2.300000          51.000000          1577.000000   \n",
            "75%              3.400000          69.000000          1994.000000   \n",
            "max              8.000000          99.000000          2000.000000   \n",
            "\n",
            "       hour_bef_ozone  hour_bef_pm10  hour_bef_pm2.5        count  \n",
            "count     1383.000000    1369.000000     1342.000000  1459.000000  \n",
            "mean         0.039149      57.168736       30.327124   108.563400  \n",
            "std          0.019509      31.771019       14.713252    82.631733  \n",
            "min          0.003000       9.000000        8.000000     1.000000  \n",
            "25%          0.025500      36.000000       20.000000    37.000000  \n",
            "50%          0.039000      51.000000       26.000000    96.000000  \n",
            "75%          0.052000      69.000000       37.000000   150.000000  \n",
            "max          0.125000     269.000000       90.000000   431.000000  \n"
          ]
        }
      ]
    },
    {
      "cell_type": "code",
      "source": [
        "# null 값 확인\n",
        "print(train_df.info())\n",
        "print('-'*100)\n",
        "print(test_df.info())"
      ],
      "metadata": {
        "colab": {
          "base_uri": "https://localhost:8080/"
        },
        "id": "vaswekp0RD3y",
        "outputId": "79065baf-02b8-4041-947e-9d6f076fb00d"
      },
      "execution_count": 7,
      "outputs": [
        {
          "output_type": "stream",
          "name": "stdout",
          "text": [
            "<class 'pandas.core.frame.DataFrame'>\n",
            "RangeIndex: 1459 entries, 0 to 1458\n",
            "Data columns (total 11 columns):\n",
            " #   Column                  Non-Null Count  Dtype  \n",
            "---  ------                  --------------  -----  \n",
            " 0   id                      1459 non-null   int64  \n",
            " 1   hour                    1459 non-null   int64  \n",
            " 2   hour_bef_temperature    1457 non-null   float64\n",
            " 3   hour_bef_precipitation  1457 non-null   float64\n",
            " 4   hour_bef_windspeed      1450 non-null   float64\n",
            " 5   hour_bef_humidity       1457 non-null   float64\n",
            " 6   hour_bef_visibility     1457 non-null   float64\n",
            " 7   hour_bef_ozone          1383 non-null   float64\n",
            " 8   hour_bef_pm10           1369 non-null   float64\n",
            " 9   hour_bef_pm2.5          1342 non-null   float64\n",
            " 10  count                   1459 non-null   float64\n",
            "dtypes: float64(9), int64(2)\n",
            "memory usage: 125.5 KB\n",
            "None\n",
            "----------------------------------------------------------------------------------------------------\n",
            "<class 'pandas.core.frame.DataFrame'>\n",
            "RangeIndex: 715 entries, 0 to 714\n",
            "Data columns (total 10 columns):\n",
            " #   Column                  Non-Null Count  Dtype  \n",
            "---  ------                  --------------  -----  \n",
            " 0   id                      715 non-null    int64  \n",
            " 1   hour                    715 non-null    int64  \n",
            " 2   hour_bef_temperature    714 non-null    float64\n",
            " 3   hour_bef_precipitation  714 non-null    float64\n",
            " 4   hour_bef_windspeed      714 non-null    float64\n",
            " 5   hour_bef_humidity       714 non-null    float64\n",
            " 6   hour_bef_visibility     714 non-null    float64\n",
            " 7   hour_bef_ozone          680 non-null    float64\n",
            " 8   hour_bef_pm10           678 non-null    float64\n",
            " 9   hour_bef_pm2.5          679 non-null    float64\n",
            "dtypes: float64(8), int64(2)\n",
            "memory usage: 56.0 KB\n",
            "None\n"
          ]
        }
      ]
    },
    {
      "cell_type": "code",
      "source": [
        "# 결손값 개수 \n",
        "print(train_df.isnull().sum())\n",
        "print('-'*100)\n",
        "print(test_df.isnull().sum())"
      ],
      "metadata": {
        "colab": {
          "base_uri": "https://localhost:8080/"
        },
        "id": "eOEA4Pd0V6Pa",
        "outputId": "ab105b3a-a1a3-45b7-cadc-cd11ee5c9b09"
      },
      "execution_count": 8,
      "outputs": [
        {
          "output_type": "stream",
          "name": "stdout",
          "text": [
            "id                          0\n",
            "hour                        0\n",
            "hour_bef_temperature        2\n",
            "hour_bef_precipitation      2\n",
            "hour_bef_windspeed          9\n",
            "hour_bef_humidity           2\n",
            "hour_bef_visibility         2\n",
            "hour_bef_ozone             76\n",
            "hour_bef_pm10              90\n",
            "hour_bef_pm2.5            117\n",
            "count                       0\n",
            "dtype: int64\n",
            "----------------------------------------------------------------------------------------------------\n",
            "id                         0\n",
            "hour                       0\n",
            "hour_bef_temperature       1\n",
            "hour_bef_precipitation     1\n",
            "hour_bef_windspeed         1\n",
            "hour_bef_humidity          1\n",
            "hour_bef_visibility        1\n",
            "hour_bef_ozone            35\n",
            "hour_bef_pm10             37\n",
            "hour_bef_pm2.5            36\n",
            "dtype: int64\n"
          ]
        }
      ]
    },
    {
      "cell_type": "markdown",
      "source": [
        "train, test 둘 다 id와 hour 값(count 제외)을 제외한 모든 feature에 결손값이 존재한다.\n",
        "\n",
        "\n",
        "ozone, pm10, pm2.5를 제외한 나머지 데이터는 평균값으로 결손값을 채운다. "
      ],
      "metadata": {
        "id": "GCdgK-NESWa7"
      }
    },
    {
      "cell_type": "code",
      "source": [
        "# heatmap을 통해 상관 관계 확인\n",
        "\n",
        "plt.figure(figsize=(13,10))\n",
        "g = sns.heatmap(train_df.corr(),annot=True,cmap=\"RdYlGn\")"
      ],
      "metadata": {
        "colab": {
          "base_uri": "https://localhost:8080/",
          "height": 697
        },
        "id": "DAUnB00pQZ_X",
        "outputId": "9f403be2-74d4-4e26-88c8-c8da825a24e5"
      },
      "execution_count": 9,
      "outputs": [
        {
          "output_type": "display_data",
          "data": {
            "text/plain": [
              "<Figure size 936x720 with 2 Axes>"
            ],
            "image/png": "[encoded data removed]"
          },
          "metadata": {
            "needs_background": "light"
          }
        }
      ]
    },
    {
      "cell_type": "markdown",
      "source": [
        "상관계수가 +_0.4 이상이면 상관관계가 있다고 봄\n",
        "\n",
        "hour, temperature, windspeed, humidity, ozone\n",
        "\n",
        "\n",
        "또한 visibility와 pm수치의 상관관계가 크다. \n",
        "\n",
        "null 값을 넣을 때 이를 이용해 넣는 것이 좋을 듯하다."
      ],
      "metadata": {
        "id": "_SGQTxNj2Cak"
      }
    },
    {
      "cell_type": "markdown",
      "source": [
        "# 2. 데이터 시각화"
      ],
      "metadata": {
        "id": "KpGgBP0U1ixE"
      }
    },
    {
      "cell_type": "code",
      "source": [
        "# 시간대에 따른 따릉이 대여량\n",
        "train_df.groupby('hour').mean()['count'].plot()\n",
        "plt.ylabel('count')\n",
        "plt.title('hour_count')"
      ],
      "metadata": {
        "colab": {
          "base_uri": "https://localhost:8080/",
          "height": 312
        },
        "id": "84kkeBgjkcJz",
        "outputId": "f32ddfc4-bc0f-40bd-dc87-0e97b7113a27"
      },
      "execution_count": 10,
      "outputs": [
        {
          "output_type": "execute_result",
          "data": {
            "text/plain": [
              "Text(0.5, 1.0, 'hour_count')"
            ]
          },
          "metadata": {},
          "execution_count": 10
        },
        {
          "output_type": "display_data",
          "data": {
            "text/plain": [
              "<Figure size 432x288 with 1 Axes>"
            ],
            "image/png": "[encoded data removed]"
          },
          "metadata": {
            "needs_background": "light"
          }
        }
      ]
    },
    {
      "cell_type": "markdown",
      "source": [
        "그래프를 보면 5-10시 사이 뾰족한 부분은 출근시간, 15-20시 뾰족한 부분은 퇴근시간으로 볼 수 있다. \n",
        "\n",
        "즉, 출퇴근 시간에 따릉이 대여량 급증하는 것으로 볼 수 있다. \n",
        "\n",
        "또한 사람들의 활동량이 많아지는 10시 이후부터 대여량이 증가하고 퇴근시간 이후로는 대여량이 감소하는 것을 볼 수 있다. \n",
        " "
      ],
      "metadata": {
        "id": "KA33J-rLzdOb"
      }
    },
    {
      "cell_type": "markdown",
      "source": [
        "미세먼지의 결측값은 visibility의 값과의 비율로 임의로 넣겠다. "
      ],
      "metadata": {
        "id": "ef49nOsWDwv5"
      }
    },
    {
      "cell_type": "code",
      "source": [
        "# 각 feature의 비율 구하기(pm10, pm2.5, visiibility, ozone) -> 결측치를 이 비율로 넣을 거임 \n",
        "def feature_per(feature_1 : str, feature_2 : str):\n",
        "    # 모든 결측치가 있는 행을 제거하고 인덱스 복원\n",
        "    train_and_test_dropna = [train_df.dropna().reset_index(drop=True), test_df.dropna().reset_index(drop=True)]\n",
        "    per_list = []\n",
        "    for dataset in train_and_test_dropna:\n",
        "        # 각 index들의 feature끼리의 비율 \n",
        "        for i in range(len(dataset)):\n",
        "            f1 = dataset[feature_1][i]\n",
        "            f2 = dataset[feature_2][i]\n",
        "            per = f1 / f2\n",
        "            per_list.append(per)\n",
        "    # 각 비율들의 평균 \n",
        "    mean_per = round(sum(per_list) / len(per_list), 4)\n",
        "    return mean_per"
      ],
      "metadata": {
        "id": "85n5CovoCmbp"
      },
      "execution_count": 11,
      "outputs": []
    },
    {
      "cell_type": "markdown",
      "source": [
        "pm2.5와 pm10은 visibility와 상관관계가 있음.\n",
        "\n",
        "생각해보면 미세먼지가 높을수록 가시성이 안 좋음 "
      ],
      "metadata": {
        "id": "gYTnBYiId1RG"
      }
    },
    {
      "cell_type": "code",
      "source": [
        "# pm10과 visibility의 비율 \n",
        "feature_per('hour_bef_pm10', 'hour_bef_visibility')"
      ],
      "metadata": {
        "colab": {
          "base_uri": "https://localhost:8080/"
        },
        "id": "F9uscVnzbgV2",
        "outputId": "7c85cb64-1a40-4d8d-bf02-e4e71aebe4ee"
      },
      "execution_count": 12,
      "outputs": [
        {
          "output_type": "execute_result",
          "data": {
            "text/plain": [
              "0.056"
            ]
          },
          "metadata": {},
          "execution_count": 12
        }
      ]
    },
    {
      "cell_type": "code",
      "source": [
        "# pm2.5와 visibility의 비율\n",
        "feature_per('hour_bef_pm2.5', 'hour_bef_visibility')"
      ],
      "metadata": {
        "colab": {
          "base_uri": "https://localhost:8080/"
        },
        "id": "zVrzEdBlbgPa",
        "outputId": "5ac1104c-fdfa-47f7-9e46-b3e4d0d042f6"
      },
      "execution_count": 13,
      "outputs": [
        {
          "output_type": "execute_result",
          "data": {
            "text/plain": [
              "0.0342"
            ]
          },
          "metadata": {},
          "execution_count": 13
        }
      ]
    },
    {
      "cell_type": "markdown",
      "source": [
        "오존의 농도는 기온과 풍속의 상관관계가 있다. \n",
        "\n",
        "오존과 기온의 상관관계가 더 높기 때문에 이 비율로 결손값을 채우겠다."
      ],
      "metadata": {
        "id": "r0ymOj9WeIu4"
      }
    },
    {
      "cell_type": "code",
      "source": [
        "# ozone과 temperature의 비율\n",
        "feature_per('hour_bef_ozone', 'hour_bef_temperature')"
      ],
      "metadata": {
        "colab": {
          "base_uri": "https://localhost:8080/"
        },
        "id": "krp5GcaQcOHR",
        "outputId": "62a49e7e-9d71-47ea-a3c5-2eaf18347759"
      },
      "execution_count": 14,
      "outputs": [
        {
          "output_type": "execute_result",
          "data": {
            "text/plain": [
              "0.0022"
            ]
          },
          "metadata": {},
          "execution_count": 14
        }
      ]
    },
    {
      "cell_type": "code",
      "source": [
        "# 데이터 합치기 \n",
        "train_and_test = [train_df, test_df]\n",
        "\n",
        "# 결측치 있는 행들만 보기\n",
        "def fill_value(feature_1 : str, feature_2 : str):\n",
        "    for dataset in train_and_test:\n",
        "        # null 값이 있는 index 리스트\n",
        "        null_index = dataset[dataset[feature_1].isnull()].index\n",
        "        # 비율 값으로 null 값 채우기 \n",
        "        for i in null_index:\n",
        "            dataset[feature_1] = dataset[feature_2] * feature_per(feature_1, feature_2) \n",
        "    print(train_df.isnull().sum())"
      ],
      "metadata": {
        "id": "_zzysSxdh_EO"
      },
      "execution_count": 15,
      "outputs": []
    },
    {
      "cell_type": "markdown",
      "source": [
        "feature 값 중 temperature, precipitation, windspeed,humidity,visibility는 결측값이 적음 \n",
        "\n",
        "-> feature는 평균으로 채움"
      ],
      "metadata": {
        "id": "IBHpa_K4nVZ7"
      }
    },
    {
      "cell_type": "code",
      "source": [
        "list = ['hour_bef_temperature', 'hour_bef_windspeed','hour_bef_humidity','hour_bef_visibility']\n",
        "\n",
        "# null 개수 별로 없는 feature 채우기 \n",
        "for dataset in train_and_test:\n",
        "    for i in list:\n",
        "        dataset[i].fillna(round(dataset[i].mean(),0), inplace=True)\n",
        "        dataset['hour_bef_precipitation'].fillna(0, inplace=True)"
      ],
      "metadata": {
        "id": "GCYTiDWLoYou"
      },
      "execution_count": 16,
      "outputs": []
    },
    {
      "cell_type": "code",
      "source": [
        "print(train_df.isnull().sum())"
      ],
      "metadata": {
        "colab": {
          "base_uri": "https://localhost:8080/"
        },
        "id": "1K8H9KVUqCRM",
        "outputId": "a9f082c5-4f4c-4fa4-e31e-d5f4024912d2"
      },
      "execution_count": 17,
      "outputs": [
        {
          "output_type": "stream",
          "name": "stdout",
          "text": [
            "id                          0\n",
            "hour                        0\n",
            "hour_bef_temperature        0\n",
            "hour_bef_precipitation      0\n",
            "hour_bef_windspeed          0\n",
            "hour_bef_humidity           0\n",
            "hour_bef_visibility         0\n",
            "hour_bef_ozone             76\n",
            "hour_bef_pm10              90\n",
            "hour_bef_pm2.5            117\n",
            "count                       0\n",
            "dtype: int64\n"
          ]
        }
      ]
    },
    {
      "cell_type": "code",
      "source": [
        "# pm10 값 채우기 \n",
        "fill_value('hour_bef_pm10', 'hour_bef_visibility')"
      ],
      "metadata": {
        "colab": {
          "base_uri": "https://localhost:8080/"
        },
        "id": "JtOGXJFgmyZP",
        "outputId": "e3c560f2-ba0b-40ce-c530-2f33ff28e50c"
      },
      "execution_count": 18,
      "outputs": [
        {
          "output_type": "stream",
          "name": "stdout",
          "text": [
            "id                          0\n",
            "hour                        0\n",
            "hour_bef_temperature        0\n",
            "hour_bef_precipitation      0\n",
            "hour_bef_windspeed          0\n",
            "hour_bef_humidity           0\n",
            "hour_bef_visibility         0\n",
            "hour_bef_ozone             76\n",
            "hour_bef_pm10               0\n",
            "hour_bef_pm2.5            117\n",
            "count                       0\n",
            "dtype: int64\n"
          ]
        }
      ]
    },
    {
      "cell_type": "code",
      "source": [
        "# pm2.5 값 채우기\n",
        "fill_value('hour_bef_pm2.5', 'hour_bef_visibility')"
      ],
      "metadata": {
        "colab": {
          "base_uri": "https://localhost:8080/"
        },
        "id": "OUVSvhRoqKxK",
        "outputId": "a5189bed-746d-4546-c48b-369db87358fe"
      },
      "execution_count": 19,
      "outputs": [
        {
          "output_type": "stream",
          "name": "stdout",
          "text": [
            "id                         0\n",
            "hour                       0\n",
            "hour_bef_temperature       0\n",
            "hour_bef_precipitation     0\n",
            "hour_bef_windspeed         0\n",
            "hour_bef_humidity          0\n",
            "hour_bef_visibility        0\n",
            "hour_bef_ozone            76\n",
            "hour_bef_pm10              0\n",
            "hour_bef_pm2.5             0\n",
            "count                      0\n",
            "dtype: int64\n"
          ]
        }
      ]
    },
    {
      "cell_type": "code",
      "source": [
        "fill_value('hour_bef_ozone', 'hour_bef_temperature')"
      ],
      "metadata": {
        "colab": {
          "base_uri": "https://localhost:8080/"
        },
        "id": "berkvhIGqWWW",
        "outputId": "eb3acf6a-5a50-4321-a2e3-f7418d405326"
      },
      "execution_count": 20,
      "outputs": [
        {
          "output_type": "stream",
          "name": "stdout",
          "text": [
            "id                        0\n",
            "hour                      0\n",
            "hour_bef_temperature      0\n",
            "hour_bef_precipitation    0\n",
            "hour_bef_windspeed        0\n",
            "hour_bef_humidity         0\n",
            "hour_bef_visibility       0\n",
            "hour_bef_ozone            0\n",
            "hour_bef_pm10             0\n",
            "hour_bef_pm2.5            0\n",
            "count                     0\n",
            "dtype: int64\n"
          ]
        }
      ]
    },
    {
      "cell_type": "code",
      "source": [
        "print(train_df.head(30))"
      ],
      "metadata": {
        "colab": {
          "base_uri": "https://localhost:8080/"
        },
        "id": "cTG4UN4Wrk16",
        "outputId": "9e9fbc88-023b-4210-8268-6f1776278921"
      },
      "execution_count": 21,
      "outputs": [
        {
          "output_type": "stream",
          "name": "stdout",
          "text": [
            "    id  hour  hour_bef_temperature  hour_bef_precipitation  \\\n",
            "0    3    20                  16.3                     1.0   \n",
            "1    6    13                  20.1                     0.0   \n",
            "2    7     6                  13.9                     0.0   \n",
            "3    8    23                   8.1                     0.0   \n",
            "4    9    18                  29.5                     0.0   \n",
            "5   13     2                  13.6                     0.0   \n",
            "6   14     3                  10.6                     0.0   \n",
            "7   16    21                  16.0                     0.0   \n",
            "8   19     9                  13.8                     0.0   \n",
            "9   20    14                  17.2                     0.0   \n",
            "10  21     4                   5.7                     0.0   \n",
            "11  22    10                  15.4                     0.0   \n",
            "12  24     9                  14.1                     0.0   \n",
            "13  27    10                   9.2                     0.0   \n",
            "14  28     1                  20.0                     0.0   \n",
            "15  29    13                  14.0                     1.0   \n",
            "16  30    21                  18.8                     0.0   \n",
            "17  32    17                  11.5                     1.0   \n",
            "18  33    13                  22.6                     0.0   \n",
            "19  34    18                  18.0                     1.0   \n",
            "20  35    10                  15.4                     0.0   \n",
            "21  36     8                  12.6                     0.0   \n",
            "22  37    16                  19.4                     0.0   \n",
            "23  38    23                  15.4                     0.0   \n",
            "24  44     3                  17.2                     0.0   \n",
            "25  45     0                  11.7                     0.0   \n",
            "26  46     2                  13.0                     0.0   \n",
            "27  47     7                  10.9                     0.0   \n",
            "28  48    15                  18.0                     0.0   \n",
            "29  49     2                   8.9                     0.0   \n",
            "\n",
            "    hour_bef_windspeed  hour_bef_humidity  hour_bef_visibility  \\\n",
            "0                  1.5               89.0                576.0   \n",
            "1                  1.4               48.0                916.0   \n",
            "2                  0.7               79.0               1382.0   \n",
            "3                  2.7               54.0                946.0   \n",
            "4                  4.8                7.0               2000.0   \n",
            "5                  1.7               80.0               1073.0   \n",
            "6                  1.5               58.0               1548.0   \n",
            "7                  6.0               21.0               1961.0   \n",
            "8                  1.9               64.0               1344.0   \n",
            "9                  2.1               32.0               1571.0   \n",
            "10                 0.6               77.0               1960.0   \n",
            "11                 2.7               62.0               1362.0   \n",
            "12                 3.2               59.0               1808.0   \n",
            "13                 1.9               55.0                462.0   \n",
            "14                 1.8               58.0               2000.0   \n",
            "15                 2.8               42.0               1518.0   \n",
            "16                 2.2               34.0               2000.0   \n",
            "17                 3.0               91.0                555.0   \n",
            "18                 2.0               41.0                987.0   \n",
            "19                 1.9               82.0                685.0   \n",
            "20                 3.1               19.0               1225.0   \n",
            "21                 5.3               53.0               1576.0   \n",
            "22                 5.9               21.0               2000.0   \n",
            "23                 1.4               87.0                423.0   \n",
            "24                 1.6               59.0               1277.0   \n",
            "25                 3.5               80.0                895.0   \n",
            "26                 0.5               48.0               1992.0   \n",
            "27                 0.8               77.0               1092.0   \n",
            "28                 3.3               20.0               2000.0   \n",
            "29                 0.9               52.0                839.0   \n",
            "\n",
            "    hour_bef_ozone  hour_bef_pm10  hour_bef_pm2.5  count  \n",
            "0          0.02934        25.1712         17.9712   49.0  \n",
            "1          0.03618        40.0292         28.5792  159.0  \n",
            "2          0.02502        60.3934         43.1184   26.0  \n",
            "3          0.01458        41.3402         29.5152   57.0  \n",
            "4          0.05310        87.4000         62.4000  431.0  \n",
            "5          0.02448        46.8901         33.4776   39.0  \n",
            "6          0.01908        67.6476         48.2976   23.0  \n",
            "7          0.02880        85.6957         61.1832  146.0  \n",
            "8          0.02484        58.7328         41.9328   39.0  \n",
            "9          0.03096        68.6527         49.0152   83.0  \n",
            "10         0.01026        85.6520         61.1520    6.0  \n",
            "11         0.02772        59.5194         42.4944   42.0  \n",
            "12         0.02538        79.0096         56.4096   59.0  \n",
            "13         0.01656        20.1894         14.4144   60.0  \n",
            "14         0.03600        87.4000         62.4000   74.0  \n",
            "15         0.02520        66.3366         47.3616    5.0  \n",
            "16         0.03384        87.4000         62.4000  217.0  \n",
            "17         0.02070        24.2535         17.3160   64.0  \n",
            "18         0.04068        43.1319         30.7944  208.0  \n",
            "19         0.03240        29.9345         21.3720   15.0  \n",
            "20         0.02772        53.5325         38.2200   58.0  \n",
            "21         0.02268        68.8712         49.1712  209.0  \n",
            "22         0.03492        87.4000         62.4000  122.0  \n",
            "23         0.02772        18.4851         13.1976   87.0  \n",
            "24         0.03096        55.8049         39.8424   30.0  \n",
            "25         0.02106        39.1115         27.9240   34.0  \n",
            "26         0.02340        87.0504         62.1504   29.0  \n",
            "27         0.01962        47.7204         34.0704   18.0  \n",
            "28         0.03240        87.4000         62.4000  106.0  \n",
            "29         0.01602        36.6643         26.1768   10.0  \n"
          ]
        }
      ]
    },
    {
      "cell_type": "markdown",
      "source": [
        "미세먼지 등급 조건 "
      ],
      "metadata": {
        "id": "IKVYqdllqyno"
      }
    },
    {
      "cell_type": "markdown",
      "source": [
        "![Untitled.png](data:image/png;base64,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)"
      ],
      "metadata": {
        "id": "TJIdSPrUqke_"
      }
    },
    {
      "cell_type": "markdown",
      "source": [
        "미세먼지, 오존을 등급 별로 나누어 보겠다\n",
        "\n",
        "미세먼지(PM-10)\n",
        "\n",
        "- 좋음(0) : 0 ~ 30\n",
        "- 보통(1) : 31 ~ 80\n",
        "- 나쁨(2) : 81 ~ 150\n",
        "- 매우나쁨(3) : 151 ~ \n",
        "\n",
        "초미세먼지(PM-2.5)\n",
        "\n",
        "- 좋음(0) : 0 ~ 15\n",
        "- 보통(1) : 16 ~ 35\n",
        "- 나쁨(2) : 36 ~ 75\n",
        "- 매우나쁨(3) : 76 ~ \n",
        "\n",
        "오존\n",
        "- 좋음(0) : 0 ~ 0.030\n",
        "- 보통(1) : 0.031 ~ 0.090\n",
        "- 나쁨(2) : 0.091 ~ 0.150\n",
        "- 매우나쁨(3) : 0.151 ~ \n"
      ],
      "metadata": {
        "id": "-7kefsSc4ohD"
      }
    },
    {
      "cell_type": "code",
      "source": [
        "# 미세먼지 pm10 등급 별로 나누기 \n",
        "\n",
        "for dataset in train_and_test:\n",
        "    dataset.loc[dataset['hour_bef_pm10'] <= 30, 'hour_bef_pm10'] = 0\n",
        "    dataset.loc[(dataset['hour_bef_pm10'] > 30) & (dataset['hour_bef_pm10'] <= 80), 'hour_bef_pm10'] = 1\n",
        "    dataset.loc[(dataset['hour_bef_pm10'] > 80) & (dataset['hour_bef_pm10'] <= 150), 'hour_bef_pm10'] = 2\n",
        "    dataset.loc[(dataset['hour_bef_pm10'] > 150), 'hour_bef_pm10'] = 3\n",
        "\n",
        "train_df['hour_bef_pm10'].astype(int)\n",
        "test_df['hour_bef_pm10'].astype(int)"
      ],
      "metadata": {
        "id": "Luh3z6o_5ySz",
        "colab": {
          "base_uri": "https://localhost:8080/"
        },
        "outputId": "4234c71a-4e6e-45ca-83cf-44e4b989743a"
      },
      "execution_count": 22,
      "outputs": [
        {
          "output_type": "execute_result",
          "data": {
            "text/plain": [
              "0      1\n",
              "1      1\n",
              "2      0\n",
              "3      1\n",
              "4      0\n",
              "      ..\n",
              "710    1\n",
              "711    2\n",
              "712    1\n",
              "713    2\n",
              "714    1\n",
              "Name: hour_bef_pm10, Length: 715, dtype: int64"
            ]
          },
          "metadata": {},
          "execution_count": 22
        }
      ]
    },
    {
      "cell_type": "code",
      "source": [
        "# 미세먼지 pm2.5 등급 별로 나누기 \n",
        "\n",
        "for dataset in train_and_test:\n",
        "    dataset.loc[dataset['hour_bef_pm2.5'] <= 15, 'hour_bef_pm2.5'] = 0\n",
        "    dataset.loc[(dataset['hour_bef_pm2.5'] > 15) & (dataset['hour_bef_pm2.5'] <= 35), 'hour_bef_pm2.5'] = 1\n",
        "    dataset.loc[(dataset['hour_bef_pm2.5'] > 35) & (dataset['hour_bef_pm2.5'] <= 75), 'hour_bef_pm2.5'] = 2\n",
        "    dataset.loc[(dataset['hour_bef_pm2.5'] > 75), 'hour_bef_pm2.5'] = 3\n",
        "    \n",
        "train_df['hour_bef_pm2.5'].astype(int)\n",
        "test_df['hour_bef_pm2.5'].astype(int)"
      ],
      "metadata": {
        "colab": {
          "base_uri": "https://localhost:8080/"
        },
        "id": "aO4zIp1stGNz",
        "outputId": "acc27a20-9e20-46d6-c190-073081aee312"
      },
      "execution_count": 23,
      "outputs": [
        {
          "output_type": "execute_result",
          "data": {
            "text/plain": [
              "0      1\n",
              "1      2\n",
              "2      0\n",
              "3      2\n",
              "4      0\n",
              "      ..\n",
              "710    2\n",
              "711    2\n",
              "712    2\n",
              "713    2\n",
              "714    2\n",
              "Name: hour_bef_pm2.5, Length: 715, dtype: int64"
            ]
          },
          "metadata": {},
          "execution_count": 23
        }
      ]
    },
    {
      "cell_type": "code",
      "source": [
        "train_df.head(15)"
      ],
      "metadata": {
        "colab": {
          "base_uri": "https://localhost:8080/",
          "height": 578
        },
        "id": "5luKq6URt0Rd",
        "outputId": "40b213c3-8648-4b22-a249-457712a74623"
      },
      "execution_count": 26,
      "outputs": [
        {
          "output_type": "execute_result",
          "data": {
            "text/plain": [
              "    id  hour  hour_bef_temperature  hour_bef_precipitation  \\\n",
              "0    3    20                  16.3                     1.0   \n",
              "1    6    13                  20.1                     0.0   \n",
              "2    7     6                  13.9                     0.0   \n",
              "3    8    23                   8.1                     0.0   \n",
              "4    9    18                  29.5                     0.0   \n",
              "5   13     2                  13.6                     0.0   \n",
              "6   14     3                  10.6                     0.0   \n",
              "7   16    21                  16.0                     0.0   \n",
              "8   19     9                  13.8                     0.0   \n",
              "9   20    14                  17.2                     0.0   \n",
              "10  21     4                   5.7                     0.0   \n",
              "11  22    10                  15.4                     0.0   \n",
              "12  24     9                  14.1                     0.0   \n",
              "13  27    10                   9.2                     0.0   \n",
              "14  28     1                  20.0                     0.0   \n",
              "\n",
              "    hour_bef_windspeed  hour_bef_humidity  hour_bef_visibility  \\\n",
              "0                  1.5               89.0                576.0   \n",
              "1                  1.4               48.0                916.0   \n",
              "2                  0.7               79.0               1382.0   \n",
              "3                  2.7               54.0                946.0   \n",
              "4                  4.8                7.0               2000.0   \n",
              "5                  1.7               80.0               1073.0   \n",
              "6                  1.5               58.0               1548.0   \n",
              "7                  6.0               21.0               1961.0   \n",
              "8                  1.9               64.0               1344.0   \n",
              "9                  2.1               32.0               1571.0   \n",
              "10                 0.6               77.0               1960.0   \n",
              "11                 2.7               62.0               1362.0   \n",
              "12                 3.2               59.0               1808.0   \n",
              "13                 1.9               55.0                462.0   \n",
              "14                 1.8               58.0               2000.0   \n",
              "\n",
              "    hour_bef_ozone  hour_bef_pm10  hour_bef_pm2.5  count  \n",
              "0          0.02934            0.0             1.0   49.0  \n",
              "1          0.03618            1.0             1.0  159.0  \n",
              "2          0.02502            1.0             2.0   26.0  \n",
              "3          0.01458            1.0             1.0   57.0  \n",
              "4          0.05310            2.0             2.0  431.0  \n",
              "5          0.02448            1.0             1.0   39.0  \n",
              "6          0.01908            1.0             2.0   23.0  \n",
              "7          0.02880            2.0             2.0  146.0  \n",
              "8          0.02484            1.0             2.0   39.0  \n",
              "9          0.03096            1.0             2.0   83.0  \n",
              "10         0.01026            2.0             2.0    6.0  \n",
              "11         0.02772            1.0             2.0   42.0  \n",
              "12         0.02538            1.0             2.0   59.0  \n",
              "13         0.01656            0.0             0.0   60.0  \n",
              "14         0.03600            2.0             2.0   74.0  "
            ],
            "text/html": [
              "\n",
              "  <div id=\"df-069bd2d6-d5a9-42e4-8f77-deea711b1cbb\">\n",
              "    <div class=\"colab-df-container\">\n",
              "      <div>\n",
              "<style scoped>\n",
              "    .dataframe tbody tr th:only-of-type {\n",
              "        vertical-align: middle;\n",
              "    }\n",
              "\n",
              "    .dataframe tbody tr th {\n",
              "        vertical-align: top;\n",
              "    }\n",
              "\n",
              "    .dataframe thead th {\n",
              "        text-align: right;\n",
              "    }\n",
              "</style>\n",
              "<table border=\"1\" class=\"dataframe\">\n",
              "  <thead>\n",
              "    <tr style=\"text-align: right;\">\n",
              "      <th></th>\n",
              "      <th>id</th>\n",
              "      <th>hour</th>\n",
              "      <th>hour_bef_temperature</th>\n",
              "      <th>hour_bef_precipitation</th>\n",
              "      <th>hour_bef_windspeed</th>\n",
              "      <th>hour_bef_humidity</th>\n",
              "      <th>hour_bef_visibility</th>\n",
              "      <th>hour_bef_ozone</th>\n",
              "      <th>hour_bef_pm10</th>\n",
              "      <th>hour_bef_pm2.5</th>\n",
              "      <th>count</th>\n",
              "    </tr>\n",
              "  </thead>\n",
              "  <tbody>\n",
              "    <tr>\n",
              "      <th>0</th>\n",
              "      <td>3</td>\n",
              "      <td>20</td>\n",
              "      <td>16.3</td>\n",
              "      <td>1.0</td>\n",
              "      <td>1.5</td>\n",
              "      <td>89.0</td>\n",
              "      <td>576.0</td>\n",
              "      <td>0.02934</td>\n",
              "      <td>0.0</td>\n",
              "      <td>1.0</td>\n",
              "      <td>49.0</td>\n",
              "    </tr>\n",
              "    <tr>\n",
              "      <th>1</th>\n",
              "      <td>6</td>\n",
              "      <td>13</td>\n",
              "      <td>20.1</td>\n",
              "      <td>0.0</td>\n",
              "      <td>1.4</td>\n",
              "      <td>48.0</td>\n",
              "      <td>916.0</td>\n",
              "      <td>0.03618</td>\n",
              "      <td>1.0</td>\n",
              "      <td>1.0</td>\n",
              "      <td>159.0</td>\n",
              "    </tr>\n",
              "    <tr>\n",
              "      <th>2</th>\n",
              "      <td>7</td>\n",
              "      <td>6</td>\n",
              "      <td>13.9</td>\n",
              "      <td>0.0</td>\n",
              "      <td>0.7</td>\n",
              "      <td>79.0</td>\n",
              "      <td>1382.0</td>\n",
              "      <td>0.02502</td>\n",
              "      <td>1.0</td>\n",
              "      <td>2.0</td>\n",
              "      <td>26.0</td>\n",
              "    </tr>\n",
              "    <tr>\n",
              "      <th>3</th>\n",
              "      <td>8</td>\n",
              "      <td>23</td>\n",
              "      <td>8.1</td>\n",
              "      <td>0.0</td>\n",
              "      <td>2.7</td>\n",
              "      <td>54.0</td>\n",
              "      <td>946.0</td>\n",
              "      <td>0.01458</td>\n",
              "      <td>1.0</td>\n",
              "      <td>1.0</td>\n",
              "      <td>57.0</td>\n",
              "    </tr>\n",
              "    <tr>\n",
              "      <th>4</th>\n",
              "      <td>9</td>\n",
              "      <td>18</td>\n",
              "      <td>29.5</td>\n",
              "      <td>0.0</td>\n",
              "      <td>4.8</td>\n",
              "      <td>7.0</td>\n",
              "      <td>2000.0</td>\n",
              "      <td>0.05310</td>\n",
              "      <td>2.0</td>\n",
              "      <td>2.0</td>\n",
              "      <td>431.0</td>\n",
              "    </tr>\n",
              "    <tr>\n",
              "      <th>5</th>\n",
              "      <td>13</td>\n",
              "      <td>2</td>\n",
              "      <td>13.6</td>\n",
              "      <td>0.0</td>\n",
              "      <td>1.7</td>\n",
              "      <td>80.0</td>\n",
              "      <td>1073.0</td>\n",
              "      <td>0.02448</td>\n",
              "      <td>1.0</td>\n",
              "      <td>1.0</td>\n",
              "      <td>39.0</td>\n",
              "    </tr>\n",
              "    <tr>\n",
              "      <th>6</th>\n",
              "      <td>14</td>\n",
              "      <td>3</td>\n",
              "      <td>10.6</td>\n",
              "      <td>0.0</td>\n",
              "      <td>1.5</td>\n",
              "      <td>58.0</td>\n",
              "      <td>1548.0</td>\n",
              "      <td>0.01908</td>\n",
              "      <td>1.0</td>\n",
              "      <td>2.0</td>\n",
              "      <td>23.0</td>\n",
              "    </tr>\n",
              "    <tr>\n",
              "      <th>7</th>\n",
              "      <td>16</td>\n",
              "      <td>21</td>\n",
              "      <td>16.0</td>\n",
              "      <td>0.0</td>\n",
              "      <td>6.0</td>\n",
              "      <td>21.0</td>\n",
              "      <td>1961.0</td>\n",
              "      <td>0.02880</td>\n",
              "      <td>2.0</td>\n",
              "      <td>2.0</td>\n",
              "      <td>146.0</td>\n",
              "    </tr>\n",
              "    <tr>\n",
              "      <th>8</th>\n",
              "      <td>19</td>\n",
              "      <td>9</td>\n",
              "      <td>13.8</td>\n",
              "      <td>0.0</td>\n",
              "      <td>1.9</td>\n",
              "      <td>64.0</td>\n",
              "      <td>1344.0</td>\n",
              "      <td>0.02484</td>\n",
              "      <td>1.0</td>\n",
              "      <td>2.0</td>\n",
              "      <td>39.0</td>\n",
              "    </tr>\n",
              "    <tr>\n",
              "      <th>9</th>\n",
              "      <td>20</td>\n",
              "      <td>14</td>\n",
              "      <td>17.2</td>\n",
              "      <td>0.0</td>\n",
              "      <td>2.1</td>\n",
              "      <td>32.0</td>\n",
              "      <td>1571.0</td>\n",
              "      <td>0.03096</td>\n",
              "      <td>1.0</td>\n",
              "      <td>2.0</td>\n",
              "      <td>83.0</td>\n",
              "    </tr>\n",
              "    <tr>\n",
              "      <th>10</th>\n",
              "      <td>21</td>\n",
              "      <td>4</td>\n",
              "      <td>5.7</td>\n",
              "      <td>0.0</td>\n",
              "      <td>0.6</td>\n",
              "      <td>77.0</td>\n",
              "      <td>1960.0</td>\n",
              "      <td>0.01026</td>\n",
              "      <td>2.0</td>\n",
              "      <td>2.0</td>\n",
              "      <td>6.0</td>\n",
              "    </tr>\n",
              "    <tr>\n",
              "      <th>11</th>\n",
              "      <td>22</td>\n",
              "      <td>10</td>\n",
              "      <td>15.4</td>\n",
              "      <td>0.0</td>\n",
              "      <td>2.7</td>\n",
              "      <td>62.0</td>\n",
              "      <td>1362.0</td>\n",
              "      <td>0.02772</td>\n",
              "      <td>1.0</td>\n",
              "      <td>2.0</td>\n",
              "      <td>42.0</td>\n",
              "    </tr>\n",
              "    <tr>\n",
              "      <th>12</th>\n",
              "      <td>24</td>\n",
              "      <td>9</td>\n",
              "      <td>14.1</td>\n",
              "      <td>0.0</td>\n",
              "      <td>3.2</td>\n",
              "      <td>59.0</td>\n",
              "      <td>1808.0</td>\n",
              "      <td>0.02538</td>\n",
              "      <td>1.0</td>\n",
              "      <td>2.0</td>\n",
              "      <td>59.0</td>\n",
              "    </tr>\n",
              "    <tr>\n",
              "      <th>13</th>\n",
              "      <td>27</td>\n",
              "      <td>10</td>\n",
              "      <td>9.2</td>\n",
              "      <td>0.0</td>\n",
              "      <td>1.9</td>\n",
              "      <td>55.0</td>\n",
              "      <td>462.0</td>\n",
              "      <td>0.01656</td>\n",
              "      <td>0.0</td>\n",
              "      <td>0.0</td>\n",
              "      <td>60.0</td>\n",
              "    </tr>\n",
              "    <tr>\n",
              "      <th>14</th>\n",
              "      <td>28</td>\n",
              "      <td>1</td>\n",
              "      <td>20.0</td>\n",
              "      <td>0.0</td>\n",
              "      <td>1.8</td>\n",
              "      <td>58.0</td>\n",
              "      <td>2000.0</td>\n",
              "      <td>0.03600</td>\n",
              "      <td>2.0</td>\n",
              "      <td>2.0</td>\n",
              "      <td>74.0</td>\n",
              "    </tr>\n",
              "  </tbody>\n",
              "</table>\n",
              "</div>\n",
              "      <button class=\"colab-df-convert\" onclick=\"convertToInteractive('df-069bd2d6-d5a9-42e4-8f77-deea711b1cbb')\"\n",
              "              title=\"Convert this dataframe to an interactive table.\"\n",
              "              style=\"display:none;\">\n",
              "        \n",
              "  <svg xmlns=\"http://www.w3.org/2000/svg\" height=\"24px\"viewBox=\"0 0 24 24\"\n",
              "       width=\"24px\">\n",
              "    <path d=\"M0 0h24v24H0V0z\" fill=\"none\"/>\n",
              "    <path d=\"M18.56 5.44l.94 2.06.94-2.06 2.06-.94-2.06-.94-.94-2.06-.94 2.06-2.06.94zm-11 1L8.5 8.5l.94-2.06 2.06-.94-2.06-.94L8.5 2.5l-.94 2.06-2.06.94zm10 10l.94 2.06.94-2.06 2.06-.94-2.06-.94-.94-2.06-.94 2.06-2.06.94z\"/><path d=\"M17.41 7.96l-1.37-1.37c-.4-.4-.92-.59-1.43-.59-.52 0-1.04.2-1.43.59L10.3 9.45l-7.72 7.72c-.78.78-.78 2.05 0 2.83L4 21.41c.39.39.9.59 1.41.59.51 0 1.02-.2 1.41-.59l7.78-7.78 2.81-2.81c.8-.78.8-2.07 0-2.86zM5.41 20L4 18.59l7.72-7.72 1.47 1.35L5.41 20z\"/>\n",
              "  </svg>\n",
              "      </button>\n",
              "      \n",
              "  <style>\n",
              "    .colab-df-container {\n",
              "      display:flex;\n",
              "      flex-wrap:wrap;\n",
              "      gap: 12px;\n",
              "    }\n",
              "\n",
              "    .colab-df-convert {\n",
              "      background-color: #E8F0FE;\n",
              "      border: none;\n",
              "      border-radius: 50%;\n",
              "      cursor: pointer;\n",
              "      display: none;\n",
              "      fill: #1967D2;\n",
              "      height: 32px;\n",
              "      padding: 0 0 0 0;\n",
              "      width: 32px;\n",
              "    }\n",
              "\n",
              "    .colab-df-convert:hover {\n",
              "      background-color: #E2EBFA;\n",
              "      box-shadow: 0px 1px 2px rgba(60, 64, 67, 0.3), 0px 1px 3px 1px rgba(60, 64, 67, 0.15);\n",
              "      fill: #174EA6;\n",
              "    }\n",
              "\n",
              "    [theme=dark] .colab-df-convert {\n",
              "      background-color: #3B4455;\n",
              "      fill: #D2E3FC;\n",
              "    }\n",
              "\n",
              "    [theme=dark] .colab-df-convert:hover {\n",
              "      background-color: #434B5C;\n",
              "      box-shadow: 0px 1px 3px 1px rgba(0, 0, 0, 0.15);\n",
              "      filter: drop-shadow(0px 1px 2px rgba(0, 0, 0, 0.3));\n",
              "      fill: #FFFFFF;\n",
              "    }\n",
              "  </style>\n",
              "\n",
              "      <script>\n",
              "        const buttonEl =\n",
              "          document.querySelector('#df-069bd2d6-d5a9-42e4-8f77-deea711b1cbb button.colab-df-convert');\n",
              "        buttonEl.style.display =\n",
              "          google.colab.kernel.accessAllowed ? 'block' : 'none';\n",
              "\n",
              "        async function convertToInteractive(key) {\n",
              "          const element = document.querySelector('#df-069bd2d6-d5a9-42e4-8f77-deea711b1cbb');\n",
              "          const dataTable =\n",
              "            await google.colab.kernel.invokeFunction('convertToInteractive',\n",
              "                                                     [key], {});\n",
              "          if (!dataTable) return;\n",
              "\n",
              "          const docLinkHtml = 'Like what you see? Visit the ' +\n",
              "            '<a target=\"_blank\" href=https://colab.research.google.com/notebooks/data_table.ipynb>data table notebook</a>'\n",
              "            + ' to learn more about interactive tables.';\n",
              "          element.innerHTML = '';\n",
              "          dataTable['output_type'] = 'display_data';\n",
              "          await google.colab.output.renderOutput(dataTable, element);\n",
              "          const docLink = document.createElement('div');\n",
              "          docLink.innerHTML = docLinkHtml;\n",
              "          element.appendChild(docLink);\n",
              "        }\n",
              "      </script>\n",
              "    </div>\n",
              "  </div>\n",
              "  "
            ]
          },
          "metadata": {},
          "execution_count": 26
        }
      ]
    },
    {
      "cell_type": "code",
      "source": [
        "# 강수에 따른 대여량\n",
        "g = sns.FacetGrid(train_df, col='hour_bef_precipitation')\n",
        "g.map(plt.hist, 'count', bins=5)"
      ],
      "metadata": {
        "id": "GxOKiCSWY_Vi",
        "colab": {
          "base_uri": "https://localhost:8080/",
          "height": 242
        },
        "outputId": "01bd1300-5fc3-4a98-a6b0-4803c5746f0e"
      },
      "execution_count": 25,
      "outputs": [
        {
          "output_type": "execute_result",
          "data": {
            "text/plain": [
              "<seaborn.axisgrid.FacetGrid at 0x7f5e92065100>"
            ]
          },
          "metadata": {},
          "execution_count": 25
        },
        {
          "output_type": "display_data",
          "data": {
            "text/plain": [
              "<Figure size 432x216 with 2 Axes>"
            ],
            "image/png": "[encoded data removed]"
          },
          "metadata": {
            "needs_background": "light"
          }
        }
      ]
    },
    {
      "cell_type": "markdown",
      "source": [],
      "metadata": {
        "id": "ds58t3kdbXA6"
      }
    },
    {
      "cell_type": "markdown",
      "source": [
        "\n",
        "![Untitled.png](data:image/png;base64,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)"
      ],
      "metadata": {
        "id": "6tq03Sb9cn5B"
      }
    },
    {
      "cell_type": "markdown",
      "source": [],
      "metadata": {
        "id": "0RqrD6BR9-Zi"
      }
    },
    {
      "cell_type": "code",
      "source": [],
      "metadata": {
        "id": "IXcLiWtZ4ZCv"
      },
      "execution_count": null,
      "outputs": []
    }
  ]
}
